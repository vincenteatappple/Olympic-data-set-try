{
 "cells": [
  {
   "cell_type": "code",
   "execution_count": 1,
   "metadata": {},
   "outputs": [],
   "source": [
    "import numpy as np\n",
    "import pandas as pd\n",
    "import matplotlib.pyplot as plt\n",
    "import seaborn as sns\n",
    "from collections import Counter\n",
    "%matplotlib inline\n",
    "data = pd.read_csv(r'C:\\\\Users\\Vincent\\Desktop\\Olympic\\summer.csv\\summer.csv')\n",
    "data_dictionary=pd.read_csv(r'C:\\Users\\Vincent\\Desktop\\Olympic\\dictionary.csv')\n"
   ]
  },
  {
   "cell_type": "code",
   "execution_count": 2,
   "metadata": {},
   "outputs": [
    {
     "data": {
      "text/html": [
       "<div>\n",
       "<style scoped>\n",
       "    .dataframe tbody tr th:only-of-type {\n",
       "        vertical-align: middle;\n",
       "    }\n",
       "\n",
       "    .dataframe tbody tr th {\n",
       "        vertical-align: top;\n",
       "    }\n",
       "\n",
       "    .dataframe thead th {\n",
       "        text-align: right;\n",
       "    }\n",
       "</style>\n",
       "<table border=\"1\" class=\"dataframe\">\n",
       "  <thead>\n",
       "    <tr style=\"text-align: right;\">\n",
       "      <th></th>\n",
       "      <th>Year</th>\n",
       "      <th>City</th>\n",
       "      <th>Sport</th>\n",
       "      <th>Discipline</th>\n",
       "      <th>Athlete</th>\n",
       "      <th>Country</th>\n",
       "      <th>Gender</th>\n",
       "      <th>Event</th>\n",
       "      <th>Medal</th>\n",
       "    </tr>\n",
       "  </thead>\n",
       "  <tbody>\n",
       "    <tr>\n",
       "      <th>0</th>\n",
       "      <td>1896</td>\n",
       "      <td>Athens</td>\n",
       "      <td>Aquatics</td>\n",
       "      <td>Swimming</td>\n",
       "      <td>HAJOS, Alfred</td>\n",
       "      <td>HUN</td>\n",
       "      <td>Men</td>\n",
       "      <td>100M Freestyle</td>\n",
       "      <td>Gold</td>\n",
       "    </tr>\n",
       "    <tr>\n",
       "      <th>1</th>\n",
       "      <td>1896</td>\n",
       "      <td>Athens</td>\n",
       "      <td>Aquatics</td>\n",
       "      <td>Swimming</td>\n",
       "      <td>HERSCHMANN, Otto</td>\n",
       "      <td>AUT</td>\n",
       "      <td>Men</td>\n",
       "      <td>100M Freestyle</td>\n",
       "      <td>Silver</td>\n",
       "    </tr>\n",
       "    <tr>\n",
       "      <th>2</th>\n",
       "      <td>1896</td>\n",
       "      <td>Athens</td>\n",
       "      <td>Aquatics</td>\n",
       "      <td>Swimming</td>\n",
       "      <td>DRIVAS, Dimitrios</td>\n",
       "      <td>GRE</td>\n",
       "      <td>Men</td>\n",
       "      <td>100M Freestyle For Sailors</td>\n",
       "      <td>Bronze</td>\n",
       "    </tr>\n",
       "    <tr>\n",
       "      <th>3</th>\n",
       "      <td>1896</td>\n",
       "      <td>Athens</td>\n",
       "      <td>Aquatics</td>\n",
       "      <td>Swimming</td>\n",
       "      <td>MALOKINIS, Ioannis</td>\n",
       "      <td>GRE</td>\n",
       "      <td>Men</td>\n",
       "      <td>100M Freestyle For Sailors</td>\n",
       "      <td>Gold</td>\n",
       "    </tr>\n",
       "    <tr>\n",
       "      <th>4</th>\n",
       "      <td>1896</td>\n",
       "      <td>Athens</td>\n",
       "      <td>Aquatics</td>\n",
       "      <td>Swimming</td>\n",
       "      <td>CHASAPIS, Spiridon</td>\n",
       "      <td>GRE</td>\n",
       "      <td>Men</td>\n",
       "      <td>100M Freestyle For Sailors</td>\n",
       "      <td>Silver</td>\n",
       "    </tr>\n",
       "  </tbody>\n",
       "</table>\n",
       "</div>"
      ],
      "text/plain": [
       "   Year    City     Sport Discipline             Athlete Country Gender  \\\n",
       "0  1896  Athens  Aquatics   Swimming       HAJOS, Alfred     HUN    Men   \n",
       "1  1896  Athens  Aquatics   Swimming    HERSCHMANN, Otto     AUT    Men   \n",
       "2  1896  Athens  Aquatics   Swimming   DRIVAS, Dimitrios     GRE    Men   \n",
       "3  1896  Athens  Aquatics   Swimming  MALOKINIS, Ioannis     GRE    Men   \n",
       "4  1896  Athens  Aquatics   Swimming  CHASAPIS, Spiridon     GRE    Men   \n",
       "\n",
       "                        Event   Medal  \n",
       "0              100M Freestyle    Gold  \n",
       "1              100M Freestyle  Silver  \n",
       "2  100M Freestyle For Sailors  Bronze  \n",
       "3  100M Freestyle For Sailors    Gold  \n",
       "4  100M Freestyle For Sailors  Silver  "
      ]
     },
     "execution_count": 2,
     "metadata": {},
     "output_type": "execute_result"
    }
   ],
   "source": [
    "data.head()"
   ]
  },
  {
   "cell_type": "code",
   "execution_count": 3,
   "metadata": {},
   "outputs": [
    {
     "data": {
      "text/html": [
       "<div>\n",
       "<style scoped>\n",
       "    .dataframe tbody tr th:only-of-type {\n",
       "        vertical-align: middle;\n",
       "    }\n",
       "\n",
       "    .dataframe tbody tr th {\n",
       "        vertical-align: top;\n",
       "    }\n",
       "\n",
       "    .dataframe thead th {\n",
       "        text-align: right;\n",
       "    }\n",
       "</style>\n",
       "<table border=\"1\" class=\"dataframe\">\n",
       "  <thead>\n",
       "    <tr style=\"text-align: right;\">\n",
       "      <th></th>\n",
       "      <th>Country</th>\n",
       "      <th>Code</th>\n",
       "      <th>Population</th>\n",
       "      <th>GDP per Capita</th>\n",
       "    </tr>\n",
       "  </thead>\n",
       "  <tbody>\n",
       "    <tr>\n",
       "      <th>0</th>\n",
       "      <td>Afghanistan</td>\n",
       "      <td>AFG</td>\n",
       "      <td>32526562.0</td>\n",
       "      <td>594.323081</td>\n",
       "    </tr>\n",
       "    <tr>\n",
       "      <th>1</th>\n",
       "      <td>Albania</td>\n",
       "      <td>ALB</td>\n",
       "      <td>2889167.0</td>\n",
       "      <td>3945.217582</td>\n",
       "    </tr>\n",
       "    <tr>\n",
       "      <th>2</th>\n",
       "      <td>Algeria</td>\n",
       "      <td>ALG</td>\n",
       "      <td>39666519.0</td>\n",
       "      <td>4206.031232</td>\n",
       "    </tr>\n",
       "    <tr>\n",
       "      <th>3</th>\n",
       "      <td>American Samoa*</td>\n",
       "      <td>ASA</td>\n",
       "      <td>55538.0</td>\n",
       "      <td>NaN</td>\n",
       "    </tr>\n",
       "    <tr>\n",
       "      <th>4</th>\n",
       "      <td>Andorra</td>\n",
       "      <td>AND</td>\n",
       "      <td>70473.0</td>\n",
       "      <td>NaN</td>\n",
       "    </tr>\n",
       "  </tbody>\n",
       "</table>\n",
       "</div>"
      ],
      "text/plain": [
       "           Country Code  Population  GDP per Capita\n",
       "0      Afghanistan  AFG  32526562.0      594.323081\n",
       "1          Albania  ALB   2889167.0     3945.217582\n",
       "2          Algeria  ALG  39666519.0     4206.031232\n",
       "3  American Samoa*  ASA     55538.0             NaN\n",
       "4          Andorra  AND     70473.0             NaN"
      ]
     },
     "execution_count": 3,
     "metadata": {},
     "output_type": "execute_result"
    }
   ],
   "source": [
    "data_dictionary.head()"
   ]
  },
  {
   "cell_type": "code",
   "execution_count": 4,
   "metadata": {},
   "outputs": [
    {
     "data": {
      "text/html": [
       "<div>\n",
       "<style scoped>\n",
       "    .dataframe tbody tr th:only-of-type {\n",
       "        vertical-align: middle;\n",
       "    }\n",
       "\n",
       "    .dataframe tbody tr th {\n",
       "        vertical-align: top;\n",
       "    }\n",
       "\n",
       "    .dataframe thead th {\n",
       "        text-align: right;\n",
       "    }\n",
       "</style>\n",
       "<table border=\"1\" class=\"dataframe\">\n",
       "  <thead>\n",
       "    <tr style=\"text-align: right;\">\n",
       "      <th></th>\n",
       "      <th>Country</th>\n",
       "      <th>Code</th>\n",
       "      <th>Current Population</th>\n",
       "      <th>Current GDP per Capita</th>\n",
       "    </tr>\n",
       "  </thead>\n",
       "  <tbody>\n",
       "    <tr>\n",
       "      <th>0</th>\n",
       "      <td>Afghanistan</td>\n",
       "      <td>AFG</td>\n",
       "      <td>32526562.0</td>\n",
       "      <td>594.323081</td>\n",
       "    </tr>\n",
       "    <tr>\n",
       "      <th>1</th>\n",
       "      <td>Albania</td>\n",
       "      <td>ALB</td>\n",
       "      <td>2889167.0</td>\n",
       "      <td>3945.217582</td>\n",
       "    </tr>\n",
       "    <tr>\n",
       "      <th>2</th>\n",
       "      <td>Algeria</td>\n",
       "      <td>ALG</td>\n",
       "      <td>39666519.0</td>\n",
       "      <td>4206.031232</td>\n",
       "    </tr>\n",
       "    <tr>\n",
       "      <th>3</th>\n",
       "      <td>American Samoa*</td>\n",
       "      <td>ASA</td>\n",
       "      <td>55538.0</td>\n",
       "      <td>NaN</td>\n",
       "    </tr>\n",
       "    <tr>\n",
       "      <th>4</th>\n",
       "      <td>Andorra</td>\n",
       "      <td>AND</td>\n",
       "      <td>70473.0</td>\n",
       "      <td>NaN</td>\n",
       "    </tr>\n",
       "  </tbody>\n",
       "</table>\n",
       "</div>"
      ],
      "text/plain": [
       "           Country Code  Current Population  Current GDP per Capita\n",
       "0      Afghanistan  AFG          32526562.0              594.323081\n",
       "1          Albania  ALB           2889167.0             3945.217582\n",
       "2          Algeria  ALG          39666519.0             4206.031232\n",
       "3  American Samoa*  ASA             55538.0                     NaN\n",
       "4          Andorra  AND             70473.0                     NaN"
      ]
     },
     "execution_count": 4,
     "metadata": {},
     "output_type": "execute_result"
    }
   ],
   "source": [
    "data = data.rename(columns={'Country': 'Code',})\n",
    "data_dictionary=data_dictionary.rename(columns={'Population':'Current Population','GDP per Capita':'Current GDP per Capita'})\n",
    "data_dictionary.head()"
   ]
  },
  {
   "cell_type": "code",
   "execution_count": 5,
   "metadata": {},
   "outputs": [
    {
     "data": {
      "text/html": [
       "<div>\n",
       "<style scoped>\n",
       "    .dataframe tbody tr th:only-of-type {\n",
       "        vertical-align: middle;\n",
       "    }\n",
       "\n",
       "    .dataframe tbody tr th {\n",
       "        vertical-align: top;\n",
       "    }\n",
       "\n",
       "    .dataframe thead th {\n",
       "        text-align: right;\n",
       "    }\n",
       "</style>\n",
       "<table border=\"1\" class=\"dataframe\">\n",
       "  <thead>\n",
       "    <tr style=\"text-align: right;\">\n",
       "      <th></th>\n",
       "      <th>Year</th>\n",
       "      <th>City</th>\n",
       "      <th>Sport</th>\n",
       "      <th>Discipline</th>\n",
       "      <th>Athlete</th>\n",
       "      <th>Code</th>\n",
       "      <th>Gender</th>\n",
       "      <th>Event</th>\n",
       "      <th>Medal</th>\n",
       "      <th>Country</th>\n",
       "      <th>Current Population</th>\n",
       "      <th>Current GDP per Capita</th>\n",
       "    </tr>\n",
       "  </thead>\n",
       "  <tbody>\n",
       "    <tr>\n",
       "      <th>0</th>\n",
       "      <td>1896</td>\n",
       "      <td>Athens</td>\n",
       "      <td>Aquatics</td>\n",
       "      <td>Swimming</td>\n",
       "      <td>HAJOS, Alfred</td>\n",
       "      <td>HUN</td>\n",
       "      <td>Men</td>\n",
       "      <td>100M Freestyle</td>\n",
       "      <td>Gold</td>\n",
       "      <td>Hungary</td>\n",
       "      <td>9844686.0</td>\n",
       "      <td>12363.54346</td>\n",
       "    </tr>\n",
       "    <tr>\n",
       "      <th>1</th>\n",
       "      <td>1896</td>\n",
       "      <td>Athens</td>\n",
       "      <td>Aquatics</td>\n",
       "      <td>Swimming</td>\n",
       "      <td>HAJOS, Alfred</td>\n",
       "      <td>HUN</td>\n",
       "      <td>Men</td>\n",
       "      <td>1200M Freestyle</td>\n",
       "      <td>Gold</td>\n",
       "      <td>Hungary</td>\n",
       "      <td>9844686.0</td>\n",
       "      <td>12363.54346</td>\n",
       "    </tr>\n",
       "    <tr>\n",
       "      <th>2</th>\n",
       "      <td>1896</td>\n",
       "      <td>Athens</td>\n",
       "      <td>Athletics</td>\n",
       "      <td>Athletics</td>\n",
       "      <td>SZOKOLYI, Alajos</td>\n",
       "      <td>HUN</td>\n",
       "      <td>Men</td>\n",
       "      <td>100M</td>\n",
       "      <td>Bronze</td>\n",
       "      <td>Hungary</td>\n",
       "      <td>9844686.0</td>\n",
       "      <td>12363.54346</td>\n",
       "    </tr>\n",
       "    <tr>\n",
       "      <th>3</th>\n",
       "      <td>1896</td>\n",
       "      <td>Athens</td>\n",
       "      <td>Athletics</td>\n",
       "      <td>Athletics</td>\n",
       "      <td>DANI, Nandor</td>\n",
       "      <td>HUN</td>\n",
       "      <td>Men</td>\n",
       "      <td>800M</td>\n",
       "      <td>Silver</td>\n",
       "      <td>Hungary</td>\n",
       "      <td>9844686.0</td>\n",
       "      <td>12363.54346</td>\n",
       "    </tr>\n",
       "    <tr>\n",
       "      <th>4</th>\n",
       "      <td>1896</td>\n",
       "      <td>Athens</td>\n",
       "      <td>Athletics</td>\n",
       "      <td>Athletics</td>\n",
       "      <td>KELLNER, Gyula</td>\n",
       "      <td>HUN</td>\n",
       "      <td>Men</td>\n",
       "      <td>Marathon</td>\n",
       "      <td>Bronze</td>\n",
       "      <td>Hungary</td>\n",
       "      <td>9844686.0</td>\n",
       "      <td>12363.54346</td>\n",
       "    </tr>\n",
       "  </tbody>\n",
       "</table>\n",
       "</div>"
      ],
      "text/plain": [
       "   Year    City      Sport Discipline           Athlete Code Gender  \\\n",
       "0  1896  Athens   Aquatics   Swimming     HAJOS, Alfred  HUN    Men   \n",
       "1  1896  Athens   Aquatics   Swimming     HAJOS, Alfred  HUN    Men   \n",
       "2  1896  Athens  Athletics  Athletics  SZOKOLYI, Alajos  HUN    Men   \n",
       "3  1896  Athens  Athletics  Athletics      DANI, Nandor  HUN    Men   \n",
       "4  1896  Athens  Athletics  Athletics    KELLNER, Gyula  HUN    Men   \n",
       "\n",
       "             Event   Medal  Country  Current Population  \\\n",
       "0   100M Freestyle    Gold  Hungary           9844686.0   \n",
       "1  1200M Freestyle    Gold  Hungary           9844686.0   \n",
       "2             100M  Bronze  Hungary           9844686.0   \n",
       "3             800M  Silver  Hungary           9844686.0   \n",
       "4         Marathon  Bronze  Hungary           9844686.0   \n",
       "\n",
       "   Current GDP per Capita  \n",
       "0             12363.54346  \n",
       "1             12363.54346  \n",
       "2             12363.54346  \n",
       "3             12363.54346  \n",
       "4             12363.54346  "
      ]
     },
     "execution_count": 5,
     "metadata": {},
     "output_type": "execute_result"
    }
   ],
   "source": [
    "#Merge two dataframes\n",
    "data_merge=pd.merge(data, data_dictionary, on=['Code'], how='inner')\n",
    "data_merge.head()"
   ]
  },
  {
   "cell_type": "code",
   "execution_count": 6,
   "metadata": {
    "collapsed": true
   },
   "outputs": [],
   "source": [
    "#what are we interested in ?:\n",
    "#countries with the most gold medals,with the most medals,in 1900\n",
    "#countries with the largest growth in medals since 1900 --> (no. of medals last year/no. of medals in 1900)\n",
    "#men,female medal winner ratio\n",
    "#cities that held the most Olympic\n"
   ]
  },
  {
   "cell_type": "code",
   "execution_count": 7,
   "metadata": {},
   "outputs": [],
   "source": [
    "#countries with the most gold medals\n",
    "#goldmedals=data.loc[:,['Country','Medal']]\n",
    "    \n",
    "data1=data[data['Medal']=='Gold']\n",
    "\n",
    "\n",
    "\n",
    "\n"
   ]
  },
  {
   "cell_type": "code",
   "execution_count": 8,
   "metadata": {},
   "outputs": [
    {
     "data": {
      "text/plain": [
       "Medal  Code\n",
       "Gold   USA     2235\n",
       "       URS      838\n",
       "       GBR      546\n",
       "       ITA      476\n",
       "       GER      452\n",
       "       HUN      412\n",
       "       FRA      408\n",
       "       SWE      349\n",
       "       GDR      329\n",
       "       AUS      312\n",
       "Name: Code, dtype: int64"
      ]
     },
     "execution_count": 8,
     "metadata": {},
     "output_type": "execute_result"
    }
   ],
   "source": [
    "top10country=data1.groupby(['Medal','Code'])['Code'].count().sort_values(ascending=False).head(10)\n",
    "top10country"
   ]
  },
  {
   "cell_type": "code",
   "execution_count": 9,
   "metadata": {},
   "outputs": [
    {
     "data": {
      "text/plain": [
       "[('USA', 4585),\n",
       " ('URS', 2049),\n",
       " ('GBR', 1720),\n",
       " ('FRA', 1396),\n",
       " ('GER', 1305),\n",
       " ('ITA', 1296),\n",
       " ('AUS', 1189),\n",
       " ('HUN', 1079),\n",
       " ('SWE', 1044),\n",
       " ('NED', 851)]"
      ]
     },
     "execution_count": 9,
     "metadata": {},
     "output_type": "execute_result"
    }
   ],
   "source": [
    "#total no.of medals obtained by the top 10 countries\n",
    "Counter(data['Code']).most_common(10)\n"
   ]
  },
  {
   "cell_type": "code",
   "execution_count": 10,
   "metadata": {},
   "outputs": [],
   "source": [
    "#most_common=Counter(data['Country']).most_common(10)"
   ]
  },
  {
   "cell_type": "code",
   "execution_count": 11,
   "metadata": {
    "collapsed": true
   },
   "outputs": [],
   "source": [
    "#publisher_sales[publisher_sales['Publisher']=='Nintendo']"
   ]
  },
  {
   "cell_type": "code",
   "execution_count": 12,
   "metadata": {},
   "outputs": [
    {
     "data": {
      "text/html": [
       "<div>\n",
       "<style scoped>\n",
       "    .dataframe tbody tr th:only-of-type {\n",
       "        vertical-align: middle;\n",
       "    }\n",
       "\n",
       "    .dataframe tbody tr th {\n",
       "        vertical-align: top;\n",
       "    }\n",
       "\n",
       "    .dataframe thead th {\n",
       "        text-align: right;\n",
       "    }\n",
       "</style>\n",
       "<table border=\"1\" class=\"dataframe\">\n",
       "  <thead>\n",
       "    <tr style=\"text-align: right;\">\n",
       "      <th></th>\n",
       "      <th>Year</th>\n",
       "      <th>City</th>\n",
       "      <th>Sport</th>\n",
       "      <th>Discipline</th>\n",
       "      <th>Athlete</th>\n",
       "      <th>Code</th>\n",
       "      <th>Gender</th>\n",
       "      <th>Event</th>\n",
       "      <th>Medal</th>\n",
       "    </tr>\n",
       "  </thead>\n",
       "  <tbody>\n",
       "    <tr>\n",
       "      <th>151</th>\n",
       "      <td>1900</td>\n",
       "      <td>Paris</td>\n",
       "      <td>Aquatics</td>\n",
       "      <td>Swimming</td>\n",
       "      <td>HALMAY, Zoltan</td>\n",
       "      <td>HUN</td>\n",
       "      <td>Men</td>\n",
       "      <td>1500M Freestyle</td>\n",
       "      <td>Bronze</td>\n",
       "    </tr>\n",
       "    <tr>\n",
       "      <th>152</th>\n",
       "      <td>1900</td>\n",
       "      <td>Paris</td>\n",
       "      <td>Aquatics</td>\n",
       "      <td>Swimming</td>\n",
       "      <td>JARVIS, John Arthur</td>\n",
       "      <td>GBR</td>\n",
       "      <td>Men</td>\n",
       "      <td>1500M Freestyle</td>\n",
       "      <td>Gold</td>\n",
       "    </tr>\n",
       "    <tr>\n",
       "      <th>153</th>\n",
       "      <td>1900</td>\n",
       "      <td>Paris</td>\n",
       "      <td>Aquatics</td>\n",
       "      <td>Swimming</td>\n",
       "      <td>WAHLE, Otto</td>\n",
       "      <td>AUT</td>\n",
       "      <td>Men</td>\n",
       "      <td>1500M Freestyle</td>\n",
       "      <td>Silver</td>\n",
       "    </tr>\n",
       "    <tr>\n",
       "      <th>154</th>\n",
       "      <td>1900</td>\n",
       "      <td>Paris</td>\n",
       "      <td>Aquatics</td>\n",
       "      <td>Swimming</td>\n",
       "      <td>DROST, Johannes</td>\n",
       "      <td>NED</td>\n",
       "      <td>Men</td>\n",
       "      <td>200M Backstroke</td>\n",
       "      <td>Bronze</td>\n",
       "    </tr>\n",
       "    <tr>\n",
       "      <th>155</th>\n",
       "      <td>1900</td>\n",
       "      <td>Paris</td>\n",
       "      <td>Aquatics</td>\n",
       "      <td>Swimming</td>\n",
       "      <td>HOPPENBERG, Ernst</td>\n",
       "      <td>GER</td>\n",
       "      <td>Men</td>\n",
       "      <td>200M Backstroke</td>\n",
       "      <td>Gold</td>\n",
       "    </tr>\n",
       "  </tbody>\n",
       "</table>\n",
       "</div>"
      ],
      "text/plain": [
       "     Year   City     Sport Discipline              Athlete Code Gender  \\\n",
       "151  1900  Paris  Aquatics   Swimming       HALMAY, Zoltan  HUN    Men   \n",
       "152  1900  Paris  Aquatics   Swimming  JARVIS, John Arthur  GBR    Men   \n",
       "153  1900  Paris  Aquatics   Swimming          WAHLE, Otto  AUT    Men   \n",
       "154  1900  Paris  Aquatics   Swimming      DROST, Johannes  NED    Men   \n",
       "155  1900  Paris  Aquatics   Swimming    HOPPENBERG, Ernst  GER    Men   \n",
       "\n",
       "               Event   Medal  \n",
       "151  1500M Freestyle  Bronze  \n",
       "152  1500M Freestyle    Gold  \n",
       "153  1500M Freestyle  Silver  \n",
       "154  200M Backstroke  Bronze  \n",
       "155  200M Backstroke    Gold  "
      ]
     },
     "execution_count": 12,
     "metadata": {},
     "output_type": "execute_result"
    }
   ],
   "source": [
    "data_1900=data[data['Year']==1900]\n",
    "data_1900.head(5)"
   ]
  },
  {
   "cell_type": "code",
   "execution_count": 13,
   "metadata": {},
   "outputs": [
    {
     "data": {
      "text/plain": [
       "[('FRA', 185),\n",
       " ('GBR', 78),\n",
       " ('USA', 55),\n",
       " ('GER', 40),\n",
       " ('BEL', 39),\n",
       " ('ZZX', 34),\n",
       " ('NED', 20),\n",
       " ('SUI', 15),\n",
       " ('NOR', 9),\n",
       " ('AUT', 6)]"
      ]
     },
     "execution_count": 13,
     "metadata": {},
     "output_type": "execute_result"
    }
   ],
   "source": [
    "Counter(data_1900['Code']).most_common(10)"
   ]
  },
  {
   "cell_type": "code",
   "execution_count": 14,
   "metadata": {},
   "outputs": [
    {
     "data": {
      "text/plain": [
       "2012"
      ]
     },
     "execution_count": 14,
     "metadata": {},
     "output_type": "execute_result"
    }
   ],
   "source": [
    "#find the last Olympic Game year in dataset\n",
    "data.Year.max()"
   ]
  },
  {
   "cell_type": "code",
   "execution_count": 15,
   "metadata": {
    "collapsed": true
   },
   "outputs": [],
   "source": [
    "#find how many medals China got in 2012\n",
    "data_China=data_merge[data_merge['Country']=='China']\n",
    "data_China_2012=data_China[data_China['Year']==2012]"
   ]
  },
  {
   "cell_type": "code",
   "execution_count": 16,
   "metadata": {},
   "outputs": [],
   "source": [
    "#this doesn't work  because you cannot use value_counts on strings!\n",
    "#data_China_2012['Medal'].value_counts.plot(kind='bar')"
   ]
  },
  {
   "cell_type": "code",
   "execution_count": 17,
   "metadata": {},
   "outputs": [
    {
     "data": {
      "text/html": [
       "<div>\n",
       "<style scoped>\n",
       "    .dataframe tbody tr th:only-of-type {\n",
       "        vertical-align: middle;\n",
       "    }\n",
       "\n",
       "    .dataframe tbody tr th {\n",
       "        vertical-align: top;\n",
       "    }\n",
       "\n",
       "    .dataframe thead th {\n",
       "        text-align: right;\n",
       "    }\n",
       "</style>\n",
       "<table border=\"1\" class=\"dataframe\">\n",
       "  <thead>\n",
       "    <tr style=\"text-align: right;\">\n",
       "      <th></th>\n",
       "      <th>Year</th>\n",
       "      <th>City</th>\n",
       "      <th>Sport</th>\n",
       "      <th>Discipline</th>\n",
       "      <th>Athlete</th>\n",
       "      <th>Code</th>\n",
       "      <th>Gender</th>\n",
       "      <th>Event</th>\n",
       "      <th>Medal</th>\n",
       "      <th>Country</th>\n",
       "      <th>Current Population</th>\n",
       "      <th>Current GDP per Capita</th>\n",
       "    </tr>\n",
       "  </thead>\n",
       "  <tbody>\n",
       "    <tr>\n",
       "      <th>23968</th>\n",
       "      <td>2012</td>\n",
       "      <td>London</td>\n",
       "      <td>Aquatics</td>\n",
       "      <td>Diving</td>\n",
       "      <td>QIU, Bo</td>\n",
       "      <td>CHN</td>\n",
       "      <td>Men</td>\n",
       "      <td>10M Platform</td>\n",
       "      <td>Silver</td>\n",
       "      <td>China</td>\n",
       "      <td>1.371220e+09</td>\n",
       "      <td>8027.68381</td>\n",
       "    </tr>\n",
       "    <tr>\n",
       "      <th>23969</th>\n",
       "      <td>2012</td>\n",
       "      <td>London</td>\n",
       "      <td>Aquatics</td>\n",
       "      <td>Diving</td>\n",
       "      <td>CHEN, Ruolin</td>\n",
       "      <td>CHN</td>\n",
       "      <td>Women</td>\n",
       "      <td>10M Platform</td>\n",
       "      <td>Gold</td>\n",
       "      <td>China</td>\n",
       "      <td>1.371220e+09</td>\n",
       "      <td>8027.68381</td>\n",
       "    </tr>\n",
       "    <tr>\n",
       "      <th>23970</th>\n",
       "      <td>2012</td>\n",
       "      <td>London</td>\n",
       "      <td>Aquatics</td>\n",
       "      <td>Diving</td>\n",
       "      <td>QIN, Kai</td>\n",
       "      <td>CHN</td>\n",
       "      <td>Men</td>\n",
       "      <td>3M Springboard</td>\n",
       "      <td>Silver</td>\n",
       "      <td>China</td>\n",
       "      <td>1.371220e+09</td>\n",
       "      <td>8027.68381</td>\n",
       "    </tr>\n",
       "    <tr>\n",
       "      <th>23971</th>\n",
       "      <td>2012</td>\n",
       "      <td>London</td>\n",
       "      <td>Aquatics</td>\n",
       "      <td>Diving</td>\n",
       "      <td>HE, Chong</td>\n",
       "      <td>CHN</td>\n",
       "      <td>Men</td>\n",
       "      <td>3M Springboard</td>\n",
       "      <td>Bronze</td>\n",
       "      <td>China</td>\n",
       "      <td>1.371220e+09</td>\n",
       "      <td>8027.68381</td>\n",
       "    </tr>\n",
       "    <tr>\n",
       "      <th>23972</th>\n",
       "      <td>2012</td>\n",
       "      <td>London</td>\n",
       "      <td>Aquatics</td>\n",
       "      <td>Diving</td>\n",
       "      <td>WU, Minxia</td>\n",
       "      <td>CHN</td>\n",
       "      <td>Women</td>\n",
       "      <td>3M Springboard</td>\n",
       "      <td>Gold</td>\n",
       "      <td>China</td>\n",
       "      <td>1.371220e+09</td>\n",
       "      <td>8027.68381</td>\n",
       "    </tr>\n",
       "  </tbody>\n",
       "</table>\n",
       "</div>"
      ],
      "text/plain": [
       "       Year    City     Sport Discipline       Athlete Code Gender  \\\n",
       "23968  2012  London  Aquatics     Diving       QIU, Bo  CHN    Men   \n",
       "23969  2012  London  Aquatics     Diving  CHEN, Ruolin  CHN  Women   \n",
       "23970  2012  London  Aquatics     Diving      QIN, Kai  CHN    Men   \n",
       "23971  2012  London  Aquatics     Diving     HE, Chong  CHN    Men   \n",
       "23972  2012  London  Aquatics     Diving    WU, Minxia  CHN  Women   \n",
       "\n",
       "                Event   Medal Country  Current Population  \\\n",
       "23968    10M Platform  Silver   China        1.371220e+09   \n",
       "23969    10M Platform    Gold   China        1.371220e+09   \n",
       "23970  3M Springboard  Silver   China        1.371220e+09   \n",
       "23971  3M Springboard  Bronze   China        1.371220e+09   \n",
       "23972  3M Springboard    Gold   China        1.371220e+09   \n",
       "\n",
       "       Current GDP per Capita  \n",
       "23968              8027.68381  \n",
       "23969              8027.68381  \n",
       "23970              8027.68381  \n",
       "23971              8027.68381  \n",
       "23972              8027.68381  "
      ]
     },
     "execution_count": 17,
     "metadata": {},
     "output_type": "execute_result"
    }
   ],
   "source": [
    "data_China_2012.head()"
   ]
  },
  {
   "cell_type": "code",
   "execution_count": 18,
   "metadata": {},
   "outputs": [
    {
     "data": {
      "text/plain": [
       "Medal\n",
       "Gold      56\n",
       "Silver    44\n",
       "Bronze    28\n",
       "Name: Country, dtype: int64"
      ]
     },
     "execution_count": 18,
     "metadata": {},
     "output_type": "execute_result"
    }
   ],
   "source": [
    "data_China_2012.groupby(['Medal'])['Country'].count().sort_values(ascending=False).head(10)\n"
   ]
  },
  {
   "cell_type": "code",
   "execution_count": 19,
   "metadata": {},
   "outputs": [
    {
     "data": {
      "text/plain": [
       "Men      19036\n",
       "Women     6706\n",
       "Name: Gender, dtype: int64"
      ]
     },
     "execution_count": 19,
     "metadata": {},
     "output_type": "execute_result"
    }
   ],
   "source": [
    "#Male,Female winner ratio\n",
    "data_merge['Gender'].value_counts()"
   ]
  },
  {
   "cell_type": "code",
   "execution_count": 20,
   "metadata": {
    "collapsed": true
   },
   "outputs": [],
   "source": [
    "#Men gained more medals than women. \n",
    "#This can be that in the past women were less active in sports than men, so less sports events were designed for females.\n"
   ]
  },
  {
   "cell_type": "code",
   "execution_count": 21,
   "metadata": {},
   "outputs": [
    {
     "data": {
      "text/plain": [
       "City\n",
       "London                   3440\n",
       "Athens                   2104\n",
       "Beijing                  2005\n",
       "Sydney                   1943\n",
       "Atlanta                  1795\n",
       "Los Angeles              1720\n",
       "Barcelona                1418\n",
       "Paris                    1325\n",
       "Antwerp                  1288\n",
       "Stockholm                 861\n",
       "Berlin                    855\n",
       "Seoul                     841\n",
       "Helsinki                  719\n",
       "Amsterdam                 682\n",
       "Montreal                  664\n",
       "Mexico                    662\n",
       "Munich                    643\n",
       "Tokyo                     635\n",
       "Melbourne / Stockholm     610\n",
       "Rome                      566\n",
       "Moscow                    504\n",
       "St Louis                  462\n",
       "Name: Country, dtype: int64"
      ]
     },
     "execution_count": 21,
     "metadata": {},
     "output_type": "execute_result"
    }
   ],
   "source": [
    "data_merge.groupby(['City'])['Country'].count().sort_values(ascending=False)"
   ]
  },
  {
   "cell_type": "code",
   "execution_count": 22,
   "metadata": {
    "collapsed": true
   },
   "outputs": [],
   "source": [
    "#We cannot tell which city held the most Olympic but most events were held in London in this dataset."
   ]
  }
 ],
 "metadata": {
  "kernelspec": {
   "display_name": "Python 3",
   "language": "python",
   "name": "python3"
  },
  "language_info": {
   "codemirror_mode": {
    "name": "ipython",
    "version": 3
   },
   "file_extension": ".py",
   "mimetype": "text/x-python",
   "name": "python",
   "nbconvert_exporter": "python",
   "pygments_lexer": "ipython3",
   "version": "3.6.3"
  }
 },
 "nbformat": 4,
 "nbformat_minor": 2
}
